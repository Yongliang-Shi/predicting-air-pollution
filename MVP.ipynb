{
 "cells": [
  {
   "cell_type": "markdown",
   "metadata": {},
   "source": [
    "### Goal: To predict the values of air pollution measurements over time"
   ]
  },
  {
   "cell_type": "code",
   "execution_count": 24,
   "metadata": {},
   "outputs": [],
   "source": [
    "# General libraries\n",
    "\n",
    "import numpy as np\n",
    "import pandas as pd\n",
    "import matplotlib.pyplot as plt\n",
    "import seaborn as sns\n",
    "\n",
    "# Set the plotting context parameters\n",
    "sns.set_context('notebook')"
   ]
  },
  {
   "cell_type": "markdown",
   "metadata": {},
   "source": [
    "### Acuqire the Training Data"
   ]
  },
  {
   "cell_type": "code",
   "execution_count": 2,
   "metadata": {},
   "outputs": [
    {
     "name": "stdout",
     "output_type": "stream",
     "text": [
      "<class 'pandas.core.frame.DataFrame'>\n",
      "RangeIndex: 7111 entries, 0 to 7110\n",
      "Data columns (total 12 columns):\n",
      " #   Column                  Non-Null Count  Dtype  \n",
      "---  ------                  --------------  -----  \n",
      " 0   date_time               7111 non-null   object \n",
      " 1   deg_C                   7111 non-null   float64\n",
      " 2   relative_humidity       7111 non-null   float64\n",
      " 3   absolute_humidity       7111 non-null   float64\n",
      " 4   sensor_1                7111 non-null   float64\n",
      " 5   sensor_2                7111 non-null   float64\n",
      " 6   sensor_3                7111 non-null   float64\n",
      " 7   sensor_4                7111 non-null   float64\n",
      " 8   sensor_5                7111 non-null   float64\n",
      " 9   target_carbon_monoxide  7111 non-null   float64\n",
      " 10  target_benzene          7111 non-null   float64\n",
      " 11  target_nitrogen_oxides  7111 non-null   float64\n",
      "dtypes: float64(11), object(1)\n",
      "memory usage: 666.8+ KB\n"
     ]
    }
   ],
   "source": [
    "# Read the train.csv\n",
    "df = pd.read_csv(\"train.csv\")\n",
    "\n",
    "# Print the descriptive summary\n",
    "df.info()"
   ]
  },
  {
   "cell_type": "code",
   "execution_count": 3,
   "metadata": {},
   "outputs": [
    {
     "data": {
      "text/html": [
       "<div>\n",
       "<style scoped>\n",
       "    .dataframe tbody tr th:only-of-type {\n",
       "        vertical-align: middle;\n",
       "    }\n",
       "\n",
       "    .dataframe tbody tr th {\n",
       "        vertical-align: top;\n",
       "    }\n",
       "\n",
       "    .dataframe thead th {\n",
       "        text-align: right;\n",
       "    }\n",
       "</style>\n",
       "<table border=\"1\" class=\"dataframe\">\n",
       "  <thead>\n",
       "    <tr style=\"text-align: right;\">\n",
       "      <th></th>\n",
       "      <th>date_time</th>\n",
       "      <th>deg_C</th>\n",
       "      <th>relative_humidity</th>\n",
       "      <th>absolute_humidity</th>\n",
       "      <th>sensor_1</th>\n",
       "      <th>sensor_2</th>\n",
       "      <th>sensor_3</th>\n",
       "      <th>sensor_4</th>\n",
       "      <th>sensor_5</th>\n",
       "      <th>target_carbon_monoxide</th>\n",
       "      <th>target_benzene</th>\n",
       "      <th>target_nitrogen_oxides</th>\n",
       "    </tr>\n",
       "  </thead>\n",
       "  <tbody>\n",
       "    <tr>\n",
       "      <th>0</th>\n",
       "      <td>2010-03-10 18:00:00</td>\n",
       "      <td>13.1</td>\n",
       "      <td>46.0</td>\n",
       "      <td>0.7578</td>\n",
       "      <td>1387.2</td>\n",
       "      <td>1087.8</td>\n",
       "      <td>1056.0</td>\n",
       "      <td>1742.8</td>\n",
       "      <td>1293.4</td>\n",
       "      <td>2.5</td>\n",
       "      <td>12.0</td>\n",
       "      <td>167.7</td>\n",
       "    </tr>\n",
       "    <tr>\n",
       "      <th>1</th>\n",
       "      <td>2010-03-10 19:00:00</td>\n",
       "      <td>13.2</td>\n",
       "      <td>45.3</td>\n",
       "      <td>0.7255</td>\n",
       "      <td>1279.1</td>\n",
       "      <td>888.2</td>\n",
       "      <td>1197.5</td>\n",
       "      <td>1449.9</td>\n",
       "      <td>1010.9</td>\n",
       "      <td>2.1</td>\n",
       "      <td>9.9</td>\n",
       "      <td>98.9</td>\n",
       "    </tr>\n",
       "    <tr>\n",
       "      <th>2</th>\n",
       "      <td>2010-03-10 20:00:00</td>\n",
       "      <td>12.6</td>\n",
       "      <td>56.2</td>\n",
       "      <td>0.7502</td>\n",
       "      <td>1331.9</td>\n",
       "      <td>929.6</td>\n",
       "      <td>1060.2</td>\n",
       "      <td>1586.1</td>\n",
       "      <td>1117.0</td>\n",
       "      <td>2.2</td>\n",
       "      <td>9.2</td>\n",
       "      <td>127.1</td>\n",
       "    </tr>\n",
       "    <tr>\n",
       "      <th>3</th>\n",
       "      <td>2010-03-10 21:00:00</td>\n",
       "      <td>11.0</td>\n",
       "      <td>62.4</td>\n",
       "      <td>0.7867</td>\n",
       "      <td>1321.0</td>\n",
       "      <td>929.0</td>\n",
       "      <td>1102.9</td>\n",
       "      <td>1536.5</td>\n",
       "      <td>1263.2</td>\n",
       "      <td>2.2</td>\n",
       "      <td>9.7</td>\n",
       "      <td>177.2</td>\n",
       "    </tr>\n",
       "    <tr>\n",
       "      <th>4</th>\n",
       "      <td>2010-03-10 22:00:00</td>\n",
       "      <td>11.9</td>\n",
       "      <td>59.0</td>\n",
       "      <td>0.7888</td>\n",
       "      <td>1272.0</td>\n",
       "      <td>852.7</td>\n",
       "      <td>1180.9</td>\n",
       "      <td>1415.5</td>\n",
       "      <td>1132.2</td>\n",
       "      <td>1.5</td>\n",
       "      <td>6.4</td>\n",
       "      <td>121.8</td>\n",
       "    </tr>\n",
       "  </tbody>\n",
       "</table>\n",
       "</div>"
      ],
      "text/plain": [
       "             date_time  deg_C  relative_humidity  absolute_humidity  sensor_1  \\\n",
       "0  2010-03-10 18:00:00   13.1               46.0             0.7578    1387.2   \n",
       "1  2010-03-10 19:00:00   13.2               45.3             0.7255    1279.1   \n",
       "2  2010-03-10 20:00:00   12.6               56.2             0.7502    1331.9   \n",
       "3  2010-03-10 21:00:00   11.0               62.4             0.7867    1321.0   \n",
       "4  2010-03-10 22:00:00   11.9               59.0             0.7888    1272.0   \n",
       "\n",
       "   sensor_2  sensor_3  sensor_4  sensor_5  target_carbon_monoxide  \\\n",
       "0    1087.8    1056.0    1742.8    1293.4                     2.5   \n",
       "1     888.2    1197.5    1449.9    1010.9                     2.1   \n",
       "2     929.6    1060.2    1586.1    1117.0                     2.2   \n",
       "3     929.0    1102.9    1536.5    1263.2                     2.2   \n",
       "4     852.7    1180.9    1415.5    1132.2                     1.5   \n",
       "\n",
       "   target_benzene  target_nitrogen_oxides  \n",
       "0            12.0                   167.7  \n",
       "1             9.9                    98.9  \n",
       "2             9.2                   127.1  \n",
       "3             9.7                   177.2  \n",
       "4             6.4                   121.8  "
      ]
     },
     "execution_count": 3,
     "metadata": {},
     "output_type": "execute_result"
    }
   ],
   "source": [
    "# Print the first 5 rows as a sample\n",
    "df.head()"
   ]
  },
  {
   "cell_type": "markdown",
   "metadata": {},
   "source": [
    "**Takeaways**\n",
    "- The dataset contains 12 columns: 9 of them are features and 3 of them are target variables.\n",
    "- The features are datetime, temperature in celsius, relative and absolute humidity and the readings from  5 sensors.\n",
    "- Besides datetime, all the features are numeric.\n",
    "- Three target values need to be predicted: carbon monoxide, benzene, and nitrogen oxides."
   ]
  },
  {
   "cell_type": "code",
   "execution_count": 4,
   "metadata": {},
   "outputs": [
    {
     "data": {
      "text/plain": [
       "date_time                 0\n",
       "deg_C                     0\n",
       "relative_humidity         0\n",
       "absolute_humidity         0\n",
       "sensor_1                  0\n",
       "sensor_2                  0\n",
       "sensor_3                  0\n",
       "sensor_4                  0\n",
       "sensor_5                  0\n",
       "target_carbon_monoxide    0\n",
       "target_benzene            0\n",
       "target_nitrogen_oxides    0\n",
       "dtype: int64"
      ]
     },
     "execution_count": 4,
     "metadata": {},
     "output_type": "execute_result"
    }
   ],
   "source": [
    "# Any missing values?\n",
    "df.isnull().sum(axis=0)"
   ]
  },
  {
   "cell_type": "code",
   "execution_count": 5,
   "metadata": {},
   "outputs": [
    {
     "data": {
      "text/plain": [
       "0"
      ]
     },
     "execution_count": 5,
     "metadata": {},
     "output_type": "execute_result"
    }
   ],
   "source": [
    "# Any duplicates?\n",
    "df.duplicated().sum()"
   ]
  },
  {
   "cell_type": "markdown",
   "metadata": {},
   "source": [
    "**Takeaways**\n",
    "- No missing values and duplicates exist."
   ]
  },
  {
   "cell_type": "code",
   "execution_count": 19,
   "metadata": {},
   "outputs": [
    {
     "data": {
      "text/plain": [
       "date_time                 datetime64[ns]\n",
       "deg_C                            float64\n",
       "relative_humidity                float64\n",
       "absolute_humidity                float64\n",
       "sensor_1                         float64\n",
       "sensor_2                         float64\n",
       "sensor_3                         float64\n",
       "sensor_4                         float64\n",
       "sensor_5                         float64\n",
       "target_carbon_monoxide           float64\n",
       "target_benzene                   float64\n",
       "target_nitrogen_oxides           float64\n",
       "dtype: object"
      ]
     },
     "execution_count": 19,
     "metadata": {},
     "output_type": "execute_result"
    }
   ],
   "source": [
    "# Convert the datetime to the correct format\n",
    "df.date_time = pd.to_datetime(df.date_time)\n",
    "df.dtypes"
   ]
  },
  {
   "cell_type": "code",
   "execution_count": 20,
   "metadata": {},
   "outputs": [
    {
     "data": {
      "text/html": [
       "<div>\n",
       "<style scoped>\n",
       "    .dataframe tbody tr th:only-of-type {\n",
       "        vertical-align: middle;\n",
       "    }\n",
       "\n",
       "    .dataframe tbody tr th {\n",
       "        vertical-align: top;\n",
       "    }\n",
       "\n",
       "    .dataframe thead th {\n",
       "        text-align: right;\n",
       "    }\n",
       "</style>\n",
       "<table border=\"1\" class=\"dataframe\">\n",
       "  <thead>\n",
       "    <tr style=\"text-align: right;\">\n",
       "      <th></th>\n",
       "      <th>deg_C</th>\n",
       "      <th>relative_humidity</th>\n",
       "      <th>absolute_humidity</th>\n",
       "      <th>sensor_1</th>\n",
       "      <th>sensor_2</th>\n",
       "      <th>sensor_3</th>\n",
       "      <th>sensor_4</th>\n",
       "      <th>sensor_5</th>\n",
       "      <th>target_carbon_monoxide</th>\n",
       "      <th>target_benzene</th>\n",
       "      <th>target_nitrogen_oxides</th>\n",
       "    </tr>\n",
       "    <tr>\n",
       "      <th>date_time</th>\n",
       "      <th></th>\n",
       "      <th></th>\n",
       "      <th></th>\n",
       "      <th></th>\n",
       "      <th></th>\n",
       "      <th></th>\n",
       "      <th></th>\n",
       "      <th></th>\n",
       "      <th></th>\n",
       "      <th></th>\n",
       "      <th></th>\n",
       "    </tr>\n",
       "  </thead>\n",
       "  <tbody>\n",
       "    <tr>\n",
       "      <th>2010-03-10 18:00:00</th>\n",
       "      <td>13.1</td>\n",
       "      <td>46.0</td>\n",
       "      <td>0.7578</td>\n",
       "      <td>1387.2</td>\n",
       "      <td>1087.8</td>\n",
       "      <td>1056.0</td>\n",
       "      <td>1742.8</td>\n",
       "      <td>1293.4</td>\n",
       "      <td>2.5</td>\n",
       "      <td>12.0</td>\n",
       "      <td>167.7</td>\n",
       "    </tr>\n",
       "    <tr>\n",
       "      <th>2010-03-10 19:00:00</th>\n",
       "      <td>13.2</td>\n",
       "      <td>45.3</td>\n",
       "      <td>0.7255</td>\n",
       "      <td>1279.1</td>\n",
       "      <td>888.2</td>\n",
       "      <td>1197.5</td>\n",
       "      <td>1449.9</td>\n",
       "      <td>1010.9</td>\n",
       "      <td>2.1</td>\n",
       "      <td>9.9</td>\n",
       "      <td>98.9</td>\n",
       "    </tr>\n",
       "    <tr>\n",
       "      <th>2010-03-10 20:00:00</th>\n",
       "      <td>12.6</td>\n",
       "      <td>56.2</td>\n",
       "      <td>0.7502</td>\n",
       "      <td>1331.9</td>\n",
       "      <td>929.6</td>\n",
       "      <td>1060.2</td>\n",
       "      <td>1586.1</td>\n",
       "      <td>1117.0</td>\n",
       "      <td>2.2</td>\n",
       "      <td>9.2</td>\n",
       "      <td>127.1</td>\n",
       "    </tr>\n",
       "    <tr>\n",
       "      <th>2010-03-10 21:00:00</th>\n",
       "      <td>11.0</td>\n",
       "      <td>62.4</td>\n",
       "      <td>0.7867</td>\n",
       "      <td>1321.0</td>\n",
       "      <td>929.0</td>\n",
       "      <td>1102.9</td>\n",
       "      <td>1536.5</td>\n",
       "      <td>1263.2</td>\n",
       "      <td>2.2</td>\n",
       "      <td>9.7</td>\n",
       "      <td>177.2</td>\n",
       "    </tr>\n",
       "    <tr>\n",
       "      <th>2010-03-10 22:00:00</th>\n",
       "      <td>11.9</td>\n",
       "      <td>59.0</td>\n",
       "      <td>0.7888</td>\n",
       "      <td>1272.0</td>\n",
       "      <td>852.7</td>\n",
       "      <td>1180.9</td>\n",
       "      <td>1415.5</td>\n",
       "      <td>1132.2</td>\n",
       "      <td>1.5</td>\n",
       "      <td>6.4</td>\n",
       "      <td>121.8</td>\n",
       "    </tr>\n",
       "  </tbody>\n",
       "</table>\n",
       "</div>"
      ],
      "text/plain": [
       "                     deg_C  relative_humidity  absolute_humidity  sensor_1  \\\n",
       "date_time                                                                    \n",
       "2010-03-10 18:00:00   13.1               46.0             0.7578    1387.2   \n",
       "2010-03-10 19:00:00   13.2               45.3             0.7255    1279.1   \n",
       "2010-03-10 20:00:00   12.6               56.2             0.7502    1331.9   \n",
       "2010-03-10 21:00:00   11.0               62.4             0.7867    1321.0   \n",
       "2010-03-10 22:00:00   11.9               59.0             0.7888    1272.0   \n",
       "\n",
       "                     sensor_2  sensor_3  sensor_4  sensor_5  \\\n",
       "date_time                                                     \n",
       "2010-03-10 18:00:00    1087.8    1056.0    1742.8    1293.4   \n",
       "2010-03-10 19:00:00     888.2    1197.5    1449.9    1010.9   \n",
       "2010-03-10 20:00:00     929.6    1060.2    1586.1    1117.0   \n",
       "2010-03-10 21:00:00     929.0    1102.9    1536.5    1263.2   \n",
       "2010-03-10 22:00:00     852.7    1180.9    1415.5    1132.2   \n",
       "\n",
       "                     target_carbon_monoxide  target_benzene  \\\n",
       "date_time                                                     \n",
       "2010-03-10 18:00:00                     2.5            12.0   \n",
       "2010-03-10 19:00:00                     2.1             9.9   \n",
       "2010-03-10 20:00:00                     2.2             9.2   \n",
       "2010-03-10 21:00:00                     2.2             9.7   \n",
       "2010-03-10 22:00:00                     1.5             6.4   \n",
       "\n",
       "                     target_nitrogen_oxides  \n",
       "date_time                                    \n",
       "2010-03-10 18:00:00                   167.7  \n",
       "2010-03-10 19:00:00                    98.9  \n",
       "2010-03-10 20:00:00                   127.1  \n",
       "2010-03-10 21:00:00                   177.2  \n",
       "2010-03-10 22:00:00                   121.8  "
      ]
     },
     "execution_count": 20,
     "metadata": {},
     "output_type": "execute_result"
    }
   ],
   "source": [
    "# Set the date_time as the index\n",
    "df = df.set_index('date_time')\n",
    "df.head()"
   ]
  },
  {
   "cell_type": "code",
   "execution_count": 9,
   "metadata": {},
   "outputs": [
    {
     "data": {
      "text/html": [
       "<div>\n",
       "<style scoped>\n",
       "    .dataframe tbody tr th:only-of-type {\n",
       "        vertical-align: middle;\n",
       "    }\n",
       "\n",
       "    .dataframe tbody tr th {\n",
       "        vertical-align: top;\n",
       "    }\n",
       "\n",
       "    .dataframe thead th {\n",
       "        text-align: right;\n",
       "    }\n",
       "</style>\n",
       "<table border=\"1\" class=\"dataframe\">\n",
       "  <thead>\n",
       "    <tr style=\"text-align: right;\">\n",
       "      <th></th>\n",
       "      <th>deg_C</th>\n",
       "      <th>relative_humidity</th>\n",
       "      <th>absolute_humidity</th>\n",
       "      <th>sensor_1</th>\n",
       "      <th>sensor_2</th>\n",
       "      <th>sensor_3</th>\n",
       "      <th>sensor_4</th>\n",
       "      <th>sensor_5</th>\n",
       "      <th>target_carbon_monoxide</th>\n",
       "      <th>target_benzene</th>\n",
       "      <th>target_nitrogen_oxides</th>\n",
       "    </tr>\n",
       "  </thead>\n",
       "  <tbody>\n",
       "    <tr>\n",
       "      <th>count</th>\n",
       "      <td>7111.000000</td>\n",
       "      <td>7111.000000</td>\n",
       "      <td>7111.000000</td>\n",
       "      <td>7111.000000</td>\n",
       "      <td>7111.000000</td>\n",
       "      <td>7111.000000</td>\n",
       "      <td>7111.000000</td>\n",
       "      <td>7111.000000</td>\n",
       "      <td>7111.000000</td>\n",
       "      <td>7111.000000</td>\n",
       "      <td>7111.000000</td>\n",
       "    </tr>\n",
       "    <tr>\n",
       "      <th>mean</th>\n",
       "      <td>20.878034</td>\n",
       "      <td>47.561004</td>\n",
       "      <td>1.110309</td>\n",
       "      <td>1091.572100</td>\n",
       "      <td>938.064970</td>\n",
       "      <td>883.903305</td>\n",
       "      <td>1513.238349</td>\n",
       "      <td>998.335565</td>\n",
       "      <td>2.086219</td>\n",
       "      <td>10.237083</td>\n",
       "      <td>204.066784</td>\n",
       "    </tr>\n",
       "    <tr>\n",
       "      <th>std</th>\n",
       "      <td>7.937917</td>\n",
       "      <td>17.398731</td>\n",
       "      <td>0.398950</td>\n",
       "      <td>218.537554</td>\n",
       "      <td>281.978988</td>\n",
       "      <td>310.456355</td>\n",
       "      <td>350.180310</td>\n",
       "      <td>381.537695</td>\n",
       "      <td>1.447109</td>\n",
       "      <td>7.694426</td>\n",
       "      <td>193.927723</td>\n",
       "    </tr>\n",
       "    <tr>\n",
       "      <th>min</th>\n",
       "      <td>1.300000</td>\n",
       "      <td>8.900000</td>\n",
       "      <td>0.198800</td>\n",
       "      <td>620.300000</td>\n",
       "      <td>364.000000</td>\n",
       "      <td>310.600000</td>\n",
       "      <td>552.900000</td>\n",
       "      <td>242.700000</td>\n",
       "      <td>0.100000</td>\n",
       "      <td>0.100000</td>\n",
       "      <td>1.900000</td>\n",
       "    </tr>\n",
       "    <tr>\n",
       "      <th>25%</th>\n",
       "      <td>14.900000</td>\n",
       "      <td>33.700000</td>\n",
       "      <td>0.855900</td>\n",
       "      <td>930.250000</td>\n",
       "      <td>734.900000</td>\n",
       "      <td>681.050000</td>\n",
       "      <td>1320.350000</td>\n",
       "      <td>722.850000</td>\n",
       "      <td>1.000000</td>\n",
       "      <td>4.500000</td>\n",
       "      <td>76.450000</td>\n",
       "    </tr>\n",
       "    <tr>\n",
       "      <th>50%</th>\n",
       "      <td>20.700000</td>\n",
       "      <td>47.300000</td>\n",
       "      <td>1.083500</td>\n",
       "      <td>1060.500000</td>\n",
       "      <td>914.200000</td>\n",
       "      <td>827.800000</td>\n",
       "      <td>1513.100000</td>\n",
       "      <td>928.700000</td>\n",
       "      <td>1.700000</td>\n",
       "      <td>8.500000</td>\n",
       "      <td>141.000000</td>\n",
       "    </tr>\n",
       "    <tr>\n",
       "      <th>75%</th>\n",
       "      <td>25.800000</td>\n",
       "      <td>60.800000</td>\n",
       "      <td>1.404150</td>\n",
       "      <td>1215.800000</td>\n",
       "      <td>1124.100000</td>\n",
       "      <td>1008.850000</td>\n",
       "      <td>1720.400000</td>\n",
       "      <td>1224.700000</td>\n",
       "      <td>2.800000</td>\n",
       "      <td>14.200000</td>\n",
       "      <td>260.000000</td>\n",
       "    </tr>\n",
       "    <tr>\n",
       "      <th>max</th>\n",
       "      <td>46.100000</td>\n",
       "      <td>90.800000</td>\n",
       "      <td>2.231000</td>\n",
       "      <td>2088.300000</td>\n",
       "      <td>2302.600000</td>\n",
       "      <td>2567.400000</td>\n",
       "      <td>2913.800000</td>\n",
       "      <td>2594.600000</td>\n",
       "      <td>12.500000</td>\n",
       "      <td>63.700000</td>\n",
       "      <td>1472.300000</td>\n",
       "    </tr>\n",
       "  </tbody>\n",
       "</table>\n",
       "</div>"
      ],
      "text/plain": [
       "             deg_C  relative_humidity  absolute_humidity     sensor_1  \\\n",
       "count  7111.000000        7111.000000        7111.000000  7111.000000   \n",
       "mean     20.878034          47.561004           1.110309  1091.572100   \n",
       "std       7.937917          17.398731           0.398950   218.537554   \n",
       "min       1.300000           8.900000           0.198800   620.300000   \n",
       "25%      14.900000          33.700000           0.855900   930.250000   \n",
       "50%      20.700000          47.300000           1.083500  1060.500000   \n",
       "75%      25.800000          60.800000           1.404150  1215.800000   \n",
       "max      46.100000          90.800000           2.231000  2088.300000   \n",
       "\n",
       "          sensor_2     sensor_3     sensor_4     sensor_5  \\\n",
       "count  7111.000000  7111.000000  7111.000000  7111.000000   \n",
       "mean    938.064970   883.903305  1513.238349   998.335565   \n",
       "std     281.978988   310.456355   350.180310   381.537695   \n",
       "min     364.000000   310.600000   552.900000   242.700000   \n",
       "25%     734.900000   681.050000  1320.350000   722.850000   \n",
       "50%     914.200000   827.800000  1513.100000   928.700000   \n",
       "75%    1124.100000  1008.850000  1720.400000  1224.700000   \n",
       "max    2302.600000  2567.400000  2913.800000  2594.600000   \n",
       "\n",
       "       target_carbon_monoxide  target_benzene  target_nitrogen_oxides  \n",
       "count             7111.000000     7111.000000             7111.000000  \n",
       "mean                 2.086219       10.237083              204.066784  \n",
       "std                  1.447109        7.694426              193.927723  \n",
       "min                  0.100000        0.100000                1.900000  \n",
       "25%                  1.000000        4.500000               76.450000  \n",
       "50%                  1.700000        8.500000              141.000000  \n",
       "75%                  2.800000       14.200000              260.000000  \n",
       "max                 12.500000       63.700000             1472.300000  "
      ]
     },
     "execution_count": 9,
     "metadata": {},
     "output_type": "execute_result"
    }
   ],
   "source": [
    "# Print the descriptive statistics of the numeric features\n",
    "df.describe()"
   ]
  },
  {
   "cell_type": "markdown",
   "metadata": {},
   "source": [
    "**Takeaways**\n",
    "- The temperature are all above 0 and ranges from 1.3 to 46.1 degrees.\n",
    "- The absolute humidity is the total mass of water vapor present in a given volume of air.\n",
    "- The relative humidity is defined as the ratio of the partial pressure of water vapor in the mixture to the equilibrium vapor pressure of water over a flat surface of pure water at a given temperature."
   ]
  },
  {
   "cell_type": "code",
   "execution_count": 51,
   "metadata": {
    "scrolled": false
   },
   "outputs": [
    {
     "data": {
      "image/png": "[encoded data removed]",
      "text/plain": [
       "<Figure size 1152x648 with 8 Axes>"
      ]
     },
     "metadata": {
      "needs_background": "light"
     },
     "output_type": "display_data"
    }
   ],
   "source": [
    "# Plot the distribution of the features\n",
    "\n",
    "features = ['deg_C', 'relative_humidity', 'absolute_humidity',\n",
    "            'sensor_1', 'sensor_2', 'sensor_3', 'sensor_4', 'sensor_5']\n",
    "\n",
    "fig, axes = plt.subplots(2,4, figsize=(16,9))\n",
    "\n",
    "axes = axes.ravel()\n",
    "\n",
    "for i, feature in zip(range(8), features):\n",
    "#     df[feature].hist(ax=axes[i])\n",
    "    sns.boxplot(data=df, x=feature, ax=axes[i])\n",
    "    axes[i].set_xlabel(feature)\n",
    "    \n",
    "plt.tight_layout()\n",
    "plt.show()"
   ]
  },
  {
   "cell_type": "markdown",
   "metadata": {},
   "source": [
    "**Takeaways**\n",
    "- All the sensor readings contains outliers beyond the maximum.\n",
    "- Only sensor 4 has outliers beyond minimum.\n",
    "- **<i>How to deal with the outliers?</i>**"
   ]
  },
  {
   "cell_type": "markdown",
   "metadata": {},
   "source": [
    "### How is the temperature related with humidity?"
   ]
  },
  {
   "cell_type": "code",
   "execution_count": 27,
   "metadata": {},
   "outputs": [
    {
     "data": {
      "image/png": "[encoded data removed]",
      "text/plain": [
       "<Figure size 432x288 with 2 Axes>"
      ]
     },
     "metadata": {
      "needs_background": "light"
     },
     "output_type": "display_data"
    }
   ],
   "source": [
    "plt.subplot(121)\n",
    "plt.scatter('deg_C', 'relative_humidity', data=df)\n",
    "plt.xlabel('Temperature(C)')\n",
    "plt.ylabel('Relative Humidity')\n",
    "\n",
    "plt.subplot(122)\n",
    "plt.scatter('deg_C','absolute_humidity', data=df)\n",
    "plt.xlabel('Temperature(C)')\n",
    "plt.ylabel('Absolute Humidity')\n",
    "\n",
    "plt.tight_layout()\n",
    "plt.show()"
   ]
  },
  {
   "cell_type": "markdown",
   "metadata": {},
   "source": [
    "**Takeaways**\n",
    "- Generally speaking, when the temperature goes up, the relative humidity goes down while the absolute humidity goes up. "
   ]
  },
  {
   "cell_type": "markdown",
   "metadata": {},
   "source": [
    "### Does one sensor detect more than one toxic chemicals?"
   ]
  }
 ],
 "metadata": {
  "kernelspec": {
   "display_name": "Python 3",
   "language": "python",
   "name": "python3"
  },
  "language_info": {
   "codemirror_mode": {
    "name": "ipython",
    "version": 3
   },
   "file_extension": ".py",
   "mimetype": "text/x-python",
   "name": "python",
   "nbconvert_exporter": "python",
   "pygments_lexer": "ipython3",
   "version": "3.7.6"
  }
 },
 "nbformat": 4,
 "nbformat_minor": 4
}
